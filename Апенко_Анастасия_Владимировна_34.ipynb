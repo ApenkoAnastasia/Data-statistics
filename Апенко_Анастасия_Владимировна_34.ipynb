{
 "cells": [
  {
   "cell_type": "markdown",
   "metadata": {},
   "source": [
    "# Извлечение данных из файлов"
   ]
  },
  {
   "cell_type": "code",
   "execution_count": 1,
   "metadata": {},
   "outputs": [],
   "source": [
    "f = open('data_1_var_34.txt', 'r')\n",
    "l = [line.strip() for line in f]\n",
    "f.close()\n",
    "X = l[0].split(',')\n",
    "for i in range(len(X)):\n",
    "    if X[i].find(' ') == 0:\n",
    "        p = X[i].find(' ')\n",
    "        X[i] = X[i][(p+1):]"
   ]
  },
  {
   "cell_type": "code",
   "execution_count": 2,
   "metadata": {},
   "outputs": [],
   "source": [
    "X = [float(i) for i in X]"
   ]
  },
  {
   "cell_type": "markdown",
   "metadata": {},
   "source": [
    "Исходная выборка из варианта 34"
   ]
  },
  {
   "cell_type": "code",
   "execution_count": 3,
   "metadata": {},
   "outputs": [
    {
     "name": "stdout",
     "output_type": "stream",
     "text": [
      "[2.5335, 1.62239, 10.89598, 10.13543, 11.80763, 8.13659, 6.59224, 12.41463, 8.40628, 3.44998, -0.53002, 5.2007, 7.28715, 5.73807, 0.95183, 9.476, 13.73534, 4.30116, 9.59304, 9.96478, 10.26758, 10.32721, 6.46838, 4.22262, 4.67283, 1.89348, 5.80279, -1.54997, 11.76789, -0.75213, 12.07524, 6.41604, 10.7437, 6.12766, 13.47335, 4.29696, 2.56252, 0.66863, 10.41965, 10.83311, 8.55444, 14.79445, 7.63002, 10.23046, 5.31519, 4.66599, 4.79201, 1.14112, 4.04777, 3.35479, 4.27122, 3.79036, 11.62572, 12.31727, 7.75038, 6.99584, 3.21489, 7.51728, 7.10896, 4.3715, 3.55246, 10.06399, 7.86769, 7.82572, 2.2803, 4.5569, 8.38259, 3.91934, 9.45561, 5.41289, 8.15185, 8.94028, 6.14695, 9.52951, 7.58236, 0.45999, 9.34951, 7.69702, -0.70347, 10.87835, 2.4432, 10.16007, 10.97033, 9.71361, 3.24446, 3.0768, 7.58001, 2.71672, 3.602, 8.92013, 5.38912, 5.8876, 10.80099, 7.51153, 9.82365, -1.21322, 11.71182, 9.70711, 4.2318, -0.59701, 3.0178, 3.83055, 9.46675, 3.77204, 7.37975, 6.84789, 3.88025, 6.32739, 6.78538, 8.3202, 5.60854, 1.16666, 7.99308, 9.30989, 8.30656, 4.86819, 5.27789, 6.41985, 4.44765, 6.15936, 3.38414, 4.44494, 9.54362, -1.78554, 0.72627, 8.0288, 9.34501, 1.99998, 1.05992, 9.36185, 10.06056, 7.85597, 13.07795, 1.01467, 7.66342, 3.85272, 2.64053, 9.11962, 0.74256, 10.35604, 3.20236, 3.95409, 9.87875, 3.29271, 5.88834, 5.07524, 3.09738, 12.35931, 2.13166, -0.85578, 3.36897, 7.01771, 0.77557, 2.07982, 10.70427, 7.42103, 5.84171, -1.14473, 5.93844, 3.32404, 6.01005, 8.54865, 6.37643, -2.12761, 10.38888, 9.3444, 8.84712, 14.36978, 8.97747, -0.46022, 7.41956, 2.36567, 3.14492, 8.01795, 3.49173, 1.01357, 1.25287, 3.28632, 10.18085, 3.3549, 4.34898, 3.88813, 6.36341, 1.30459, 5.47304, 6.2269, 0.26153, 10.32048, 12.2427, 5.0377, 4.84859, 9.02878, 12.96376, 9.55238, -0.09946, 9.6506, 6.64807, 4.91467, 10.87826, 5.40425, 4.67337, 11.10517, 8.11292, 3.624, 7.00722, 4.72857, 8.51541, 4.88893, 10.78892, 8.50544, 15.31859, 9.3718, 4.50701, 11.80426, 8.12479, 9.16586, 6.80237, 10.93424, 4.00061, 8.18613, 11.53058, 9.27505, 7.87567, 3.49261, 5.77454, 8.45261, 5.51903, 5.7843, 8.93168, -0.16053, 15.61333, 11.58451, 0.70052, 3.02436, 6.88378, 7.29264, 5.52966, 5.5437, 10.91011, 11.2957, 4.20184, 13.21085, 3.69791, 3.39268, 7.40275, 5.86362, 10.11861, 4.39679, 2.56905, -4.38458, 1.33409, -2.71659, 9.24394, 6.07693, 6.87904, 9.05049, 1.84865, 2.78577, 4.82049, -0.26463, 14.46073, 9.63922, -1.58182, 12.61056, 8.21158, 9.5294, 8.96569, 0.24514, 8.60827, -2.55676, 12.06151, 1.22903, 11.33259, 9.66614, 14.36928, 3.78253, 5.82433, 6.92598, 12.90142, 2.70055, 7.25729, 1.14738, 9.16722, 7.7257, 7.99239, 6.77232, 7.98308, 4.7965, 14.97332, 9.86607, 4.96117, 8.99595, 5.83415, 1.03543, 1.16348, -0.83316, 3.20781, 13.85529, 7.26916, -0.96411, 7.95044, 2.46235, 11.94107, 0.50682, 3.06248, 6.45069, 4.78878, 7.28523, 4.21273, 8.76403, 6.54249, 1.5725, 11.21079, 10.95642, 4.13465, 12.44619, 7.74524, 7.56098, 4.67021, 7.99813, 0.932, 10.66757, -1.10757, 4.91677, 4.30723, -2.59486, 4.75883, 7.95534, 3.21798, 1.76066, 5.70313, 4.93112, 12.16301, 0.67927, -2.35578, 8.07411, 12.16363, 4.88444, 7.93653, 2.32886, 5.1843, 5.1511, 7.83082, 7.94831, -1.31041, 6.60968, 1.5777, 4.37049, 8.39752, 6.56233, 3.76128, 5.83841, 6.79844, 6.06493, 6.33038, 4.55246, 4.95024, 3.74111, 0.93358, 4.33962, 0.21429, 2.30405, 10.43802, 12.14305, 7.78262, 3.24537, 10.46168, 2.5689, 4.93459, 4.86653, 10.73095, 7.24053, 13.76962, 7.0006, -1.19433, 2.99619, 6.9537]\n"
     ]
    }
   ],
   "source": [
    "print(X)"
   ]
  },
  {
   "cell_type": "code",
   "execution_count": 4,
   "metadata": {},
   "outputs": [],
   "source": [
    "f2 = open('data_1_var_35.txt', 'r')\n",
    "l2 = [line.strip() for line in f2]\n",
    "f2.close()\n",
    "X2 = l2[0].split(',')\n",
    "for i in range(len(X2)):\n",
    "    if X2[i].find(' ') == 0:\n",
    "        p = X2[i].find(' ')\n",
    "        X2[i] = X2[i][(p+1):]"
   ]
  },
  {
   "cell_type": "markdown",
   "metadata": {},
   "source": [
    "Исходная выборка из варианта 35"
   ]
  },
  {
   "cell_type": "code",
   "execution_count": 5,
   "metadata": {},
   "outputs": [
    {
     "name": "stdout",
     "output_type": "stream",
     "text": [
      "[7.236686, 6.223592, 10.362068, 3.372948, 5.956624, 7.738393, 4.773048, 6.482778, 9.361105, 5.634391, 4.74002, 5.401265, 11.13818, 7.346172, 10.847047, 1.152078, 0.890155, 9.408756, 6.376267, 12.273034, 8.059536, 1.63253, 5.227091, 12.109091, 8.074887, 3.597903, 8.551585, 8.676704, 7.556199, 2.409802, 7.38893, 14.316407, 5.531648, 5.641588, 8.491403, 7.097655, 6.066425, 2.255151, 6.594083, 5.152487, 8.59634, 13.872377, 15.380579, 3.35078, 12.207988, 4.492293, 5.314634, 6.979188, 4.947019, 9.211725, 9.324893, 7.360301, 3.911416, 4.019166, 3.717909, 5.148149, 10.569695, 1.165601, 6.048723, 11.313823, 7.986957, 9.184565, 3.898029, 8.70417, 7.668236, 13.986576, 1.688144, 5.50429, 8.837291, 4.56282, 3.005956, 5.460096, 9.763836, 7.155743, 15.183001, 8.151438, 2.344678, 1.224634, 4.850595, 7.352372, 4.083257, -2.283485, 12.939245, 12.449032, 0.170061, 2.136965, 3.311295, -3.201397, 2.018025, 4.442106, 9.979463, 7.739445, 13.914725, 9.548948, 5.574341, 0.881682, 6.169071, 8.767458, 4.021244, 1.759225, 13.722431, 4.713576, 1.861407, 5.727484, 0.06038, 3.724937, 11.696413, 5.098661, 7.123316, 7.871898, 4.685878, 3.789081, 4.218833, 10.892111, 3.676252, 6.84705, 2.036463, 3.171358, 7.820091, 4.915232, 1.643755, 8.982462, 9.242578, -0.541391, 9.960516, -2.753638, 1.853589, 9.268906, 5.628047, 5.379584, 9.213319, 3.824219, 10.99056, 3.057264, 7.577808, 5.335169, 6.400882, 4.928023, 1.54966, 6.707071, 4.106839, 5.075582, 5.947568, 6.674761, 14.713013, 8.807603, 8.217943, 1.038954, 12.825333, 13.501291, 0.321537, -0.006382, 5.516672, 4.135177, 7.419675, -2.262947, 6.67566, 10.275985, 9.532918, 5.479488, 5.933827, 5.790615, 8.011025, 8.671009, 1.796508, 3.302062, 7.16205, 6.078367, 9.519538, 0.411336, 5.342832, 11.096435, 2.134393, 9.008573, 2.223466, 8.194393, 11.800296, 10.55493, 5.556693, 9.798364, 4.287502, 8.10391, 9.177067, 4.789487, 5.550995, 5.645248, 8.653409, 8.867364, 13.963252, 6.558059, 5.183569, 5.222005, 3.332517, 5.866407, 3.710823, 9.309025, 9.284596, 6.576125, 12.874743, 6.026462, 7.24399, 5.369112, 6.283314, 5.036693, 7.805847, 2.121167, 2.363664, 10.717807, 2.770423, 8.120081, 6.210251, 7.143466, 4.98955, 8.632715, 3.531928, -2.943514, 8.471462, 3.935876]\n"
     ]
    }
   ],
   "source": [
    "X2 = [float(i) for i in X2]\n",
    "print(X2)"
   ]
  },
  {
   "cell_type": "markdown",
   "metadata": {},
   "source": [
    "Объём выборок"
   ]
  },
  {
   "cell_type": "code",
   "execution_count": 9,
   "metadata": {},
   "outputs": [
    {
     "name": "stdout",
     "output_type": "stream",
     "text": [
      "377; 218\n"
     ]
    }
   ],
   "source": [
    "n = len(X)   \n",
    "m = len(X2)   \n",
    "print(str(n) + '; ' + str(m))"
   ]
  },
  {
   "cell_type": "markdown",
   "metadata": {},
   "source": [
    "# Выборочное среднее"
   ]
  },
  {
   "cell_type": "code",
   "execution_count": 11,
   "metadata": {},
   "outputs": [],
   "source": [
    "import math as mt\n",
    "import numpy as np\n",
    "from scipy import stats as st\n",
    "import statistics as stat\n",
    "from scipy.stats import norm, uniform\n",
    "from skgof import ks_test, cvm_test, ad_test"
   ]
  },
  {
   "cell_type": "code",
   "execution_count": 12,
   "metadata": {},
   "outputs": [
    {
     "name": "stdout",
     "output_type": "stream",
     "text": [
      "Выборочное среднее =  6.170856259946949\n"
     ]
    }
   ],
   "source": [
    "vs = (1/n)*mt.fsum(X)\n",
    "print('Выборочное среднее = ', vs)"
   ]
  },
  {
   "cell_type": "markdown",
   "metadata": {},
   "source": [
    "# Выборочная дисперсия"
   ]
  },
  {
   "cell_type": "code",
   "execution_count": 13,
   "metadata": {},
   "outputs": [
    {
     "name": "stdout",
     "output_type": "stream",
     "text": [
      "Выборочная дисперсия =  15.313195868970894\n"
     ]
    }
   ],
   "source": [
    "res = 0\n",
    "for i in range(n):\n",
    "    res += (X[i] - vs)**2 \n",
    "vd = (1/n)*res\n",
    "print('Выборочная дисперсия = ', vd)"
   ]
  },
  {
   "cell_type": "markdown",
   "metadata": {},
   "source": [
    "# Исправленная (несмещённая) диспресия"
   ]
  },
  {
   "cell_type": "code",
   "execution_count": 14,
   "metadata": {},
   "outputs": [
    {
     "name": "stdout",
     "output_type": "stream",
     "text": [
      "Исправленная (несмещённая) диспресия =  15.353922453728796\n"
     ]
    }
   ],
   "source": [
    "r = 0\n",
    "for i in range(n):\n",
    "    r += (X[i] - vs)**2 \n",
    "nd = (1/(n-1))*r\n",
    "print('Исправленная (несмещённая) диспресия = ', nd)"
   ]
  },
  {
   "cell_type": "markdown",
   "metadata": {},
   "source": [
    "# Размах выборки"
   ]
  },
  {
   "cell_type": "markdown",
   "metadata": {},
   "source": [
    "Вычисляется, как разность между максимальным и минимальным элементами"
   ]
  },
  {
   "cell_type": "code",
   "execution_count": 15,
   "metadata": {},
   "outputs": [
    {
     "name": "stdout",
     "output_type": "stream",
     "text": [
      "Размах выборки =  19.997909999999997\n"
     ]
    }
   ],
   "source": [
    "rv = max(X) - min(X)\n",
    "print('Размах выборки = ', rv)"
   ]
  },
  {
   "cell_type": "markdown",
   "metadata": {},
   "source": [
    "# Медиана"
   ]
  },
  {
   "cell_type": "markdown",
   "metadata": {},
   "source": [
    "Её можно найти, упорядочив элементы выборки по возрастанию или убыванию и взяв средний элемент"
   ]
  },
  {
   "cell_type": "code",
   "execution_count": 16,
   "metadata": {},
   "outputs": [],
   "source": [
    "sort = sorted(X)"
   ]
  },
  {
   "cell_type": "code",
   "execution_count": 17,
   "metadata": {},
   "outputs": [],
   "source": [
    "def mediana(mas):\n",
    "    if len(mas)%2 == 0:\n",
    "        k = int(len(mas)/2)\n",
    "        res = (mas[k] + mas[k+1])/2\n",
    "    else:\n",
    "        k = int((len(mas)-1)/2)\n",
    "        res = mas[k]\n",
    "    return res"
   ]
  },
  {
   "cell_type": "code",
   "execution_count": 20,
   "metadata": {},
   "outputs": [
    {
     "data": {
      "text/plain": [
       "6.15936"
      ]
     },
     "execution_count": 20,
     "metadata": {},
     "output_type": "execute_result"
    }
   ],
   "source": [
    "mediana(sort)"
   ]
  },
  {
   "cell_type": "code",
   "execution_count": 20,
   "metadata": {},
   "outputs": [
    {
     "name": "stdout",
     "output_type": "stream",
     "text": [
      "Медиана =  6.15936\n"
     ]
    }
   ],
   "source": [
    "med = stat.median(sort)\n",
    "print('Медиана = ', med)"
   ]
  },
  {
   "cell_type": "markdown",
   "metadata": {},
   "source": [
    "# Квартили"
   ]
  },
  {
   "cell_type": "code",
   "execution_count": 21,
   "metadata": {},
   "outputs": [],
   "source": [
    "#Первый квартиль (или нижний квартиль) [25-ая персентиль]\n",
    "Q1 = np.percentile(X, 25)"
   ]
  },
  {
   "cell_type": "code",
   "execution_count": 22,
   "metadata": {},
   "outputs": [],
   "source": [
    "#Третий квартиль (или верхний квартиль)[75-ая персентиль]\n",
    "Q3 = np.percentile(X, 75)"
   ]
  },
  {
   "cell_type": "code",
   "execution_count": 23,
   "metadata": {},
   "outputs": [
    {
     "name": "stdout",
     "output_type": "stream",
     "text": [
      "Первый квартиль = 3.39268; Третий квартиль = 9.11962\n"
     ]
    }
   ],
   "source": [
    "print('Первый квартиль = '+ str(Q1) + '; Третий квартиль = '+ str(Q3))"
   ]
  },
  {
   "cell_type": "code",
   "execution_count": 24,
   "metadata": {},
   "outputs": [
    {
     "data": {
      "text/plain": [
       "-4.38458"
      ]
     },
     "execution_count": 24,
     "metadata": {},
     "output_type": "execute_result"
    }
   ],
   "source": [
    "#Минимальное значение (0-ая персентиль)\n",
    "np.percentile(X, 0)"
   ]
  },
  {
   "cell_type": "code",
   "execution_count": 25,
   "metadata": {},
   "outputs": [
    {
     "data": {
      "text/plain": [
       "15.61333"
      ]
     },
     "execution_count": 25,
     "metadata": {},
     "output_type": "execute_result"
    }
   ],
   "source": [
    "#Максимальное значение (100-ая персентиль)\n",
    "np.percentile(X, 100)"
   ]
  },
  {
   "cell_type": "code",
   "execution_count": 26,
   "metadata": {},
   "outputs": [
    {
     "data": {
      "text/plain": [
       "6.15936"
      ]
     },
     "execution_count": 26,
     "metadata": {},
     "output_type": "execute_result"
    }
   ],
   "source": [
    "#Значение медианы (50-ая персентиль)\n",
    "np.percentile(X, 50)"
   ]
  },
  {
   "cell_type": "markdown",
   "metadata": {},
   "source": [
    "# Выборочная квантиль уровня 1/3"
   ]
  },
  {
   "cell_type": "code",
   "execution_count": 27,
   "metadata": {},
   "outputs": [
    {
     "name": "stdout",
     "output_type": "stream",
     "text": [
      "Выборочная квантиль уровня 1/3 =  4.35615\n"
     ]
    }
   ],
   "source": [
    "q1 = np.quantile(X, 1 / 3)\n",
    "print('Выборочная квантиль уровня 1/3 = ', q1)"
   ]
  },
  {
   "cell_type": "markdown",
   "metadata": {},
   "source": [
    "# Доверительные интервалы"
   ]
  },
  {
   "cell_type": "code",
   "execution_count": 28,
   "metadata": {},
   "outputs": [],
   "source": [
    "interval_1 = st.t.interval(0.99, n-1, loc = stat.mean(X), scale = st.sem(X))\n",
    "\n",
    "interval_2 = st.t.interval(0.99, n-1, loc = np.var(X), scale = st.sem(X))"
   ]
  },
  {
   "cell_type": "code",
   "execution_count": 33,
   "metadata": {},
   "outputs": [
    {
     "name": "stdout",
     "output_type": "stream",
     "text": [
      "Доверительные интервалы: \n",
      "(5.648381072839319, 6.693331447054581)\n",
      "(14.790720681863261, 15.835671056078523)\n"
     ]
    }
   ],
   "source": [
    "print('Доверительные интервалы: ')\n",
    "print( interval_1)\n",
    "print(interval_2)"
   ]
  },
  {
   "cell_type": "markdown",
   "metadata": {},
   "source": [
    "# Строим графики"
   ]
  },
  {
   "cell_type": "code",
   "execution_count": 34,
   "metadata": {},
   "outputs": [],
   "source": [
    "import matplotlib\n",
    "from matplotlib import pyplot as plt\n",
    "import seaborn as sns; sns.set()\n",
    "from statsmodels.distributions.empirical_distribution import ECDF"
   ]
  },
  {
   "cell_type": "code",
   "execution_count": 37,
   "metadata": {},
   "outputs": [
    {
     "data": {
      "image/png": "[encoded data removed]",
      "text/plain": [
       "<Figure size 432x288 with 1 Axes>"
      ]
     },
     "metadata": {
      "needs_background": "light"
     },
     "output_type": "display_data"
    }
   ],
   "source": [
    "sns_plot = sns.distplot(X, kde_kws={\"color\": \"k\", \"lw\": 2, \"label\": \"Плотность\"}, hist_kws={\"label\": \" Гистограмма\"})\n",
    "fig = sns_plot.get_figure()"
   ]
  },
  {
   "cell_type": "code",
   "execution_count": 36,
   "metadata": {},
   "outputs": [
    {
     "data": {
      "image/png": "[encoded data removed]",
      "text/plain": [
       "<Figure size 432x288 with 1 Axes>"
      ]
     },
     "metadata": {
      "needs_background": "light"
     },
     "output_type": "display_data"
    }
   ],
   "source": [
    "snsplot = sns.kdeplot(X, shade=True, cumulative=True)\n",
    "fig = snsplot.get_figure()"
   ]
  },
  {
   "cell_type": "code",
   "execution_count": 62,
   "metadata": {},
   "outputs": [
    {
     "data": {
      "image/png": "[encoded data removed]",
      "text/plain": [
       "<Figure size 1080x720 with 1 Axes>"
      ]
     },
     "metadata": {
      "needs_background": "light"
     },
     "output_type": "display_data"
    }
   ],
   "source": [
    "#гистограмма\n",
    "plt.figure(figsize=(15,10))\n",
    "bar_chart = plt.hist(X, bins = int(mt.sqrt(n)+1), label='Гистограмма')\n",
    "\n",
    "#полигон частот\n",
    "list(bar_chart)\n",
    "array_1=np.array(bar_chart[0]).tolist()\n",
    "array_2=np.array(bar_chart[1]).tolist()\n",
    "array_2.pop(int(len(array_2)-1))\n",
    "av=(array_2[1] - array_2[0])/2\n",
    "for i in range(len(array_2)):\n",
    "    array_2[i]+=av\n",
    "plt.plot(array_2, array_1, '-D', color='black', linewidth=3, label='Полигон частот')\n",
    "\n",
    "#график плотности нормального закона распределения\n",
    "#со средним равным выборочному среднему и дисперсией равной исправленной дисперсии \n",
    "X.sort()\n",
    "pdf = st.norm.pdf(X, vs, mt.sqrt(nd))\n",
    "plt.plot(X, pdf*100, color='red', label='Плотность распределения')\n",
    "plt.legend(loc = 'upper right')\n",
    "plt.show()"
   ]
  },
  {
   "cell_type": "code",
   "execution_count": 54,
   "metadata": {},
   "outputs": [
    {
     "data": {
      "image/png": "[encoded data removed]",
      "text/plain": [
       "<Figure size 720x720 with 1 Axes>"
      ]
     },
     "metadata": {},
     "output_type": "display_data"
    }
   ],
   "source": [
    "plt.figure(figsize=(10,10))\n",
    "\n",
    "ecdf = ECDF(X)\n",
    "plt.plot(ecdf.x, ecdf.y, label='Эмпирическая функция распределения')\n",
    "\n",
    "cdf = st.norm.cdf(X, vs, mt.sqrt(nd))\n",
    "plt.plot(X, cdf, label='Функция распределения нормального закона')\n",
    "plt.legend(loc = 'upper left')\n",
    "plt.show()"
   ]
  },
  {
   "cell_type": "markdown",
   "metadata": {},
   "source": [
    "# Второе задание\n",
    "## Проверка гипотез"
   ]
  },
  {
   "cell_type": "markdown",
   "metadata": {},
   "source": [
    "### Критерий Колмогорова"
   ]
  },
  {
   "cell_type": "code",
   "execution_count": 65,
   "metadata": {},
   "outputs": [
    {
     "data": {
      "text/plain": [
       "True"
      ]
     },
     "execution_count": 65,
     "metadata": {},
     "output_type": "execute_result"
    }
   ],
   "source": [
    "st.kstest(X, 'norm', args = (10, mt.sqrt(5.5))).pvalue < .05"
   ]
  },
  {
   "cell_type": "markdown",
   "metadata": {},
   "source": [
    "Гипотеза о том, что данные имеют нормальный закон распределения отвергается, так как уровень значимости < 0.05"
   ]
  },
  {
   "cell_type": "markdown",
   "metadata": {},
   "source": [
    "### Kритерий Крамера-Мизеса"
   ]
  },
  {
   "cell_type": "code",
   "execution_count": 66,
   "metadata": {},
   "outputs": [
    {
     "data": {
      "text/plain": [
       "True"
      ]
     },
     "execution_count": 66,
     "metadata": {},
     "output_type": "execute_result"
    }
   ],
   "source": [
    "cvm_test(X, st.norm(loc = 10, scale = mt.sqrt(5.5))).pvalue < .05"
   ]
  },
  {
   "cell_type": "markdown",
   "metadata": {},
   "source": [
    "Гипотеза о том, что данные имеют нормальный закон распределения отвергается, так как уровень значимости < 0.05"
   ]
  },
  {
   "cell_type": "markdown",
   "metadata": {},
   "source": [
    "### Kритерий Андерсона-Дарлинга"
   ]
  },
  {
   "cell_type": "code",
   "execution_count": 67,
   "metadata": {},
   "outputs": [
    {
     "name": "stderr",
     "output_type": "stream",
     "text": [
      "/srv/conda/envs/notebook/lib/python3.7/site-packages/ipykernel_launcher.py:1: UserWarning: p-value floored: true value smaller than 0.001\n",
      "  \"\"\"Entry point for launching an IPython kernel.\n"
     ]
    },
    {
     "data": {
      "text/plain": [
       "True"
      ]
     },
     "execution_count": 67,
     "metadata": {},
     "output_type": "execute_result"
    }
   ],
   "source": [
    "st.anderson_ksamp([X, np.random.normal(loc = 10, scale = mt.sqrt(5.5), size = n)]). significance_level < .05"
   ]
  },
  {
   "cell_type": "markdown",
   "metadata": {},
   "source": [
    "Гипотеза о том, что данные имеют нормальный закон распределения отвергается, так как уровень значимости < 0.05"
   ]
  },
  {
   "cell_type": "markdown",
   "metadata": {},
   "source": [
    "## Проверка гипотезы, что вторая выборка имеет нормальное распределение "
   ]
  },
  {
   "cell_type": "markdown",
   "metadata": {},
   "source": [
    "### Критерий хи-квадрат"
   ]
  },
  {
   "cell_type": "code",
   "execution_count": 68,
   "metadata": {},
   "outputs": [],
   "source": [
    "from scipy.stats import chisquare"
   ]
  },
  {
   "cell_type": "code",
   "execution_count": 73,
   "metadata": {},
   "outputs": [
    {
     "data": {
      "text/plain": [
       "True"
      ]
     },
     "execution_count": 73,
     "metadata": {},
     "output_type": "execute_result"
    }
   ],
   "source": [
    "chisquare(X2).pvalue < .05"
   ]
  },
  {
   "cell_type": "markdown",
   "metadata": {},
   "source": [
    "Гипотеза о том, что данные имеют нормальный закон распределения отвергается, так как уровень значимости < 0.05"
   ]
  },
  {
   "cell_type": "markdown",
   "metadata": {},
   "source": [
    "# Гипотезы однородности выборок"
   ]
  },
  {
   "cell_type": "markdown",
   "metadata": {},
   "source": [
    "### Kритерий Уилкоксона (Манна-Уитни)"
   ]
  },
  {
   "cell_type": "code",
   "execution_count": 77,
   "metadata": {},
   "outputs": [],
   "source": [
    "from scipy.stats import mannwhitneyu"
   ]
  },
  {
   "cell_type": "code",
   "execution_count": 79,
   "metadata": {},
   "outputs": [
    {
     "data": {
      "text/plain": [
       "False"
      ]
     },
     "execution_count": 79,
     "metadata": {},
     "output_type": "execute_result"
    }
   ],
   "source": [
    "mannwhitneyu(X, X2).pvalue < .05"
   ]
  },
  {
   "cell_type": "markdown",
   "metadata": {},
   "source": [
    "Гипотеза об однородности выборок принимается, так как уровень значимости > 0.05"
   ]
  },
  {
   "cell_type": "markdown",
   "metadata": {},
   "source": [
    "### Критерий Колмогорова-Смирнова"
   ]
  },
  {
   "cell_type": "code",
   "execution_count": 80,
   "metadata": {},
   "outputs": [
    {
     "data": {
      "text/plain": [
       "False"
      ]
     },
     "execution_count": 80,
     "metadata": {},
     "output_type": "execute_result"
    }
   ],
   "source": [
    " st.ks_2samp(X, X2).pvalue < .05"
   ]
  },
  {
   "cell_type": "markdown",
   "metadata": {},
   "source": [
    "Гипотеза об однородности выборок принимается, так как уровень значимости > 0.05"
   ]
  },
  {
   "cell_type": "markdown",
   "metadata": {},
   "source": [
    "### Kритерий хи-квадрат"
   ]
  },
  {
   "cell_type": "code",
   "execution_count": 81,
   "metadata": {},
   "outputs": [
    {
     "data": {
      "text/plain": [
       "False"
      ]
     },
     "execution_count": 81,
     "metadata": {},
     "output_type": "execute_result"
    }
   ],
   "source": [
    "st.chisquare(X[:m], X2[:m]).pvalue < .05"
   ]
  },
  {
   "cell_type": "markdown",
   "metadata": {},
   "source": [
    "Гипотеза об однородности выборок принимается, так как уровень значимости > 0.05"
   ]
  }
 ],
 "metadata": {
  "kernelspec": {
   "display_name": "Python 3",
   "language": "python",
   "name": "python3"
  },
  "language_info": {
   "codemirror_mode": {
    "name": "ipython",
    "version": 3
   },
   "file_extension": ".py",
   "mimetype": "text/x-python",
   "name": "python",
   "nbconvert_exporter": "python",
   "pygments_lexer": "ipython3",
   "version": "3.8.3"
  }
 },
 "nbformat": 4,
 "nbformat_minor": 4
}
